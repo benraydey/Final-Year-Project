{
 "cells": [
  {
   "cell_type": "markdown",
   "metadata": {},
   "source": [
    "# Perceptual Beat Estimator Test Procedure"
   ]
  },
  {
   "cell_type": "markdown",
   "metadata": {},
   "source": [
    "#### Import required functions"
   ]
  },
  {
   "cell_type": "code",
   "execution_count": 12,
   "metadata": {},
   "outputs": [],
   "source": [
    "from midi_utils import midi2string, midiTrack2OnsetTimes, pbeFromOnsets\n",
    "from PerceptualBeatEstimator import PerceptualBeatEstimator\n",
    "from mido import MidiFile\n",
    "import numpy as np\n",
    "import matplotlib.pyplot as plt"
   ]
  },
  {
   "cell_type": "markdown",
   "metadata": {},
   "source": [
    "### Latency testing (what is the best value of latency correction?)\n",
    "There is a delay between the drum being hit and bonk detecting an onset.\n",
    "We must account for this delay by subtracting some amount from the onset times.\n",
    "Begin by trying latency corrections between 0 and 30ms (inclusive)."
   ]
  },
  {
   "cell_type": "markdown",
   "metadata": {},
   "source": [
    "### Test sets stored in midi files\n",
    "Each recorded test is stored on a different track in one midi file. The onsets are in one midi file, and the perceptual beats are in another. The perceptual beats corresponding to a set of onsets are stored in the same track number as the onsets."
   ]
  },
  {
   "cell_type": "code",
   "execution_count": 27,
   "metadata": {},
   "outputs": [
    {
     "name": "stdout",
     "output_type": "stream",
     "text": [
      "[-0.05837006717043991, -0.04306840311586857, -0.01480692993407029, 0.0024805625130399633, 0.014277123316179363]\n",
      "[-0.03801912940749208, -0.04739203273431691, -0.0571077994121314, -0.06788549357911489, -0.03516266852569405]\n",
      "[-0.02207307821983484, -0.028527685594885277, -0.0005853942610745122, -0.04355214247553185, -0.04609720289622388]\n",
      "[-0.008465495679849777, -0.0293499818049483, -0.046745031755791366, -0.05964303118908898, -0.03955058713096715]\n",
      "[-0.013307427654480897, -0.0329591669399818, -0.04491839607338477, -0.05178503743011342, -0.030950129235470136]\n",
      "[-0.05837006717043991, -0.04306840311586857, -0.01480692993407029, 0.0024805625130399633, 0.014277123316179363, -0.006645342841668622, -0.003322988505750857, 0.004013403990068554, 0.008240693148486855, 0.015618385193423734]\n"
     ]
    }
   ],
   "source": [
    "test_dir = 'test_sets/set_2/'\n",
    "\n",
    "onsets = MidiFile(test_dir+'onsets.mid')  # midi file of onsets\n",
    "pb = MidiFile(test_dir+'pb.mid')\n",
    "\n",
    "total_errors = []\n",
    "arr_errors = []  # list of errors for each parameter permutation\n",
    "for i, zipped in enumerate(zip(onsets.tracks,pb.tracks)):\n",
    "    onsets_track = zipped[0]\n",
    "    pb_track = zipped[1]\n",
    "    \n",
    "    if i==0:\n",
    "        continue\n",
    "    \n",
    "    # 1. Extract info about the performance stored in the track name\n",
    "    trackInfo = (onsets_track.name).split(',')\n",
    "    patternName = trackInfo[0]\n",
    "    Nb = int(trackInfo[1][trackInfo[1].index('=')+1:])\n",
    "    beat_div = int(trackInfo[2][trackInfo[2].index('=')+1:])\n",
    "    \n",
    "    # 2. Get a pbe object for the performance stored in the onsets track\n",
    "    pbe = pbeFromOnsets(onsets_track, Nb=Nb, beat_div=beat_div)\n",
    "    \n",
    "    # 3. Get time predictions\n",
    "    t_next_beat, bp_next_beat = pbe.getPredictions()\n",
    "    t_pb = list([0 for _ in range(Nb)]) + midiTrack2OnsetTimes(pb_track)\n",
    "    bp_pb = list(range(1,len(t_pb)+1))\n",
    "    \n",
    "    # 4. Compare times\n",
    "    track_errors = []  # list of error in prediction time at each onset\n",
    "    for j in range(1, len(t_next_beat)):  # loop through recorded onsets. skip the first onset\n",
    "        predicted_time = t_pb[bp_next_beat[j]-1]\n",
    "        # the first perceptual beat occurs adter the synchronising beats\n",
    "            # E.g. in the case of 4/4, first pb and therefore first comparision is at BP=5.\n",
    "        if predicted_time:    # True if a perceptual beat was recorded at BP = bp_next_beat[j] -> False if 0\n",
    "            track_errors.append(t_next_beat[j] - predicted_time)\n",
    "    total_errors.append(track_errors)\n",
    "\n",
    "total_errors_flat=[]\n",
    "for track_errors in total_errors:\n",
    "    total_errors_flat.extend(track_errors)\n",
    "    print(track_errors[0:5])\n",
    "    \n",
    "arr_errors.append(total_errors_flat)\n",
    "    \n"
   ]
  },
  {
   "cell_type": "markdown",
   "metadata": {},
   "source": [
    "### Latency correction test"
   ]
  },
  {
   "cell_type": "code",
   "execution_count": 13,
   "metadata": {
    "scrolled": true
   },
   "outputs": [
    {
     "data": {
      "text/plain": [
       "[<matplotlib.lines.Line2D at 0x1106067d0>]"
      ]
     },
     "execution_count": 13,
     "metadata": {},
     "output_type": "execute_result"
    },
    {
     "data": {
      "image/png": "[encoded data removed]",
      "text/plain": [
       "<Figure size 432x288 with 1 Axes>"
      ]
     },
     "metadata": {
      "needs_background": "light"
     },
     "output_type": "display_data"
    }
   ],
   "source": [
    "test_dir = 'test_sets/set_2/'\n",
    "\n",
    "onsets = MidiFile(test_dir+'onsets.mid')  # midi file of onsets\n",
    "pb = MidiFile(test_dir+'pb.mid')\n",
    "\n",
    "# Latency parameters\n",
    "latency_range = (np.arange(15/1000, 35/1000, 2.5/1000)) # 0 - 30ms in steps of 5ms\n",
    "\n",
    "arr_errors = []  # list of errors for each parameter permutation\n",
    "for delta_latency in latency_range:\n",
    "    total_errors = []\n",
    "    for i, zipped in enumerate(zip(onsets.tracks,pb.tracks)):\n",
    "        onsets_track = zipped[0]\n",
    "        pb_track = zipped[1]\n",
    "\n",
    "        if i==0:\n",
    "            continue\n",
    "\n",
    "        # 1. Extract info about the performance stored in the track name\n",
    "        trackInfo = (onsets_track.name).split(',')\n",
    "        patternName = trackInfo[0]\n",
    "        Nb = int(trackInfo[1][trackInfo[1].index('=')+1:])\n",
    "        beat_div = int(trackInfo[2][trackInfo[2].index('=')+1:])\n",
    "\n",
    "        # 2. Get a pbe object for the performance stored in the onsets track\n",
    "        pbe = pbeFromOnsets(onsets_track, Nb=Nb, beat_div=beat_div, delta_latency=delta_latency)\n",
    "\n",
    "        # 3. Get time predictions\n",
    "        t_next_beat, bp_next_beat = pbe.getPredictions()\n",
    "        t_pb = list([0 for _ in range(Nb)]) + midiTrack2OnsetTimes(pb_track)\n",
    "        bp_pb = list(range(1,len(t_pb)+1))\n",
    "\n",
    "        # 4. Compare times\n",
    "        track_errors = []  # list of error in prediction time at each onset\n",
    "        for j in range(1, len(t_next_beat)):  # loop through recorded onsets. skip the first onset\n",
    "            predicted_time = t_pb[bp_next_beat[j]-1]\n",
    "            # the first perceptual beat occurs adter the synchronising beats\n",
    "                # E.g. in the case of 4/4, first pb and therefore first comparision is at BP=5.\n",
    "            if predicted_time:    # True if a perceptual beat was recorded at BP = bp_next_beat[j] -> False if 0\n",
    "                track_errors.append(t_next_beat[j] - predicted_time)\n",
    "        total_errors.append(track_errors)\n",
    "\n",
    "    total_errors_flat=[]\n",
    "    for track_errors in total_errors:\n",
    "        total_errors_flat.extend(track_errors)\n",
    "    \n",
    "    # record the total errors for this value of delta_latency\n",
    "    arr_errors.append(total_errors_flat)\n",
    "\n",
    "# plot mean (absolute) error vs. delta latency\n",
    "means = []\n",
    "for errors in arr_errors:\n",
    "    means.append(np.mean(np.abs(np.array(errors))))\n",
    "    \n",
    "plt.figure()\n",
    "plt.title('Mean error vs. onset latency correction')\n",
    "plt.xlabel('onset latency correction [ms]')\n",
    "plt.ylabel('mean error [ms]')\n",
    "plt.grid(axis='y', alpha=0.75)\n",
    "plt.plot(np.array(latency_range)*1000, np.array(means)*1000, '-o')\n"
   ]
  },
  {
   "cell_type": "markdown",
   "metadata": {},
   "source": [
    "### BP Window width test\n"
   ]
  },
  {
   "cell_type": "code",
   "execution_count": 48,
   "metadata": {},
   "outputs": [
    {
     "data": {
      "image/png": "[encoded data removed]",
      "text/plain": [
       "<Figure size 432x288 with 1 Axes>"
      ]
     },
     "metadata": {
      "needs_background": "light"
     },
     "output_type": "display_data"
    }
   ],
   "source": [
    "test_dir = 'test_sets/set_2/'\n",
    "\n",
    "onsets = MidiFile(test_dir+'onsets.mid')  # midi file of onsets\n",
    "pb = MidiFile(test_dir+'pb.mid')\n",
    "\n",
    "# BP window parameters\n",
    "BP_window_range = range(2,13)\n",
    "\n",
    "arr_errors = []  # list of errors for each parameter permutation\n",
    "for BP_window in BP_window_range:\n",
    "    total_errors = []\n",
    "    for i, zipped in enumerate(zip(onsets.tracks,pb.tracks)):\n",
    "        onsets_track = zipped[0]\n",
    "        pb_track = zipped[1]\n",
    "\n",
    "        if i==0:\n",
    "            continue\n",
    "\n",
    "        # 1. Extract info about the performance stored in the track name\n",
    "        trackInfo = (onsets_track.name).split(',')\n",
    "        patternName = trackInfo[0]\n",
    "        Nb = int(trackInfo[1][trackInfo[1].index('=')+1:])\n",
    "        beat_div = int(trackInfo[2][trackInfo[2].index('=')+1:])\n",
    "\n",
    "        # 2. Get a pbe object for the performance stored in the onsets track\n",
    "        pbe = pbeFromOnsets(onsets_track, Nb=Nb, beat_div=beat_div, BP_window=BP_window, delta_latency=0.025)\n",
    "\n",
    "        # 3. Get time predictions\n",
    "        t_next_beat, bp_next_beat = pbe.getPredictions()\n",
    "        t_pb = list([0 for _ in range(Nb)]) + midiTrack2OnsetTimes(pb_track)\n",
    "        bp_pb = list(range(1,len(t_pb)+1))\n",
    "\n",
    "        # 4. Compare times\n",
    "        track_errors = []  # list of error in prediction time at each onset\n",
    "        for j in range(1, len(t_next_beat)):  # loop through recorded onsets. skip the first onset\n",
    "            predicted_time = t_pb[bp_next_beat[j]-1]\n",
    "            # the first perceptual beat occurs adter the synchronising beats\n",
    "                # E.g. in the case of 4/4, first pb and therefore first comparision is at BP=5.\n",
    "            if predicted_time:    # True if a perceptual beat was recorded at BP = bp_next_beat[j] -> False if 0\n",
    "                track_errors.append(t_next_beat[j] - predicted_time)\n",
    "        total_errors.append(track_errors)\n",
    "\n",
    "    total_errors_flat=[]\n",
    "    for track_errors in total_errors:\n",
    "        total_errors_flat.extend(track_errors)\n",
    "    \n",
    "    # record the total errors for this value of delta_latency\n",
    "    arr_errors.append(total_errors_flat)\n",
    "\n",
    "# plot mean (absolute) error vs. delta latency\n",
    "means = []\n",
    "for errors in arr_errors:\n",
    "    means.append(np.mean(np.abs(np.array(errors))))\n",
    "    \n",
    "plt.figure()\n",
    "plt.title(r'Mean error vs. $\\theta_{window}$ width')\n",
    "plt.xlabel(r'$\\theta_{window}$ [beats]')\n",
    "plt.ylabel('mean error [ms]')\n",
    "plt.grid(axis='y', alpha=0.75)\n",
    "plt.plot(BP_window_range, np.array(means)*1000, '-o')\n",
    "plt.show()"
   ]
  }
 ],
 "metadata": {
  "kernelspec": {
   "display_name": "Python 3",
   "language": "python",
   "name": "python3"
  },
  "language_info": {
   "codemirror_mode": {
    "name": "ipython",
    "version": 3
   },
   "file_extension": ".py",
   "mimetype": "text/x-python",
   "name": "python",
   "nbconvert_exporter": "python",
   "pygments_lexer": "ipython3",
   "version": "3.7.6"
  }
 },
 "nbformat": 4,
 "nbformat_minor": 4
}
